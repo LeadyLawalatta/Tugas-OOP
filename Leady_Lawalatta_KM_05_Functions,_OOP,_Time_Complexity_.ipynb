{
  "nbformat": 4,
  "nbformat_minor": 0,
  "metadata": {
    "colab": {
      "name": "Leady Lawalatta KM-05: Functions, OOP, Time Complexity .ipynb",
      "provenance": [],
      "collapsed_sections": []
    },
    "kernelspec": {
      "name": "python3",
      "display_name": "Python 3"
    },
    "language_info": {
      "name": "python"
    }
  },
  "cells": [
    {
      "cell_type": "markdown",
      "metadata": {
        "id": "Le8N3SLcbiAd"
      },
      "source": [
        "# **Fungsi**"
      ]
    },
    {
      "cell_type": "code",
      "metadata": {
        "colab": {
          "base_uri": "https://localhost:8080/"
        },
        "id": "ywDbPVukTDYd",
        "outputId": "74464c43-033e-4583-c86f-653f867ca6f1"
      },
      "source": [
        "# Deklarasi Fungsi\n",
        "def cetak(x):\n",
        "  print(x)\n",
        "\n",
        "# Memanggil Fungsi\n",
        "cetak(\"wokee\")"
      ],
      "execution_count": null,
      "outputs": [
        {
          "output_type": "stream",
          "name": "stdout",
          "text": [
            "wokee\n"
          ]
        }
      ]
    },
    {
      "cell_type": "code",
      "metadata": {
        "colab": {
          "base_uri": "https://localhost:8080/"
        },
        "id": "RipUgd0NTdjo",
        "outputId": "344ba08b-ccbc-4b78-f2c7-6c43f7457963"
      },
      "source": [
        "# Deklarasi Fungsi dengan pengembalian\n",
        "def tambah(a, b):\n",
        "  return a + b;\n",
        "\n",
        "# Memanggil Fungsi\n",
        "print(tambah(2, 3))"
      ],
      "execution_count": null,
      "outputs": [
        {
          "output_type": "stream",
          "name": "stdout",
          "text": [
            "5\n"
          ]
        }
      ]
    },
    {
      "cell_type": "code",
      "metadata": {
        "id": "9r0oXaTxVRvi",
        "colab": {
          "base_uri": "https://localhost:8080/",
          "height": 131
        },
        "outputId": "ff88cb9c-1d37-4d21-990b-95b44756333e"
      },
      "source": [
        "def nama_fungsi(arg1, arg2, ...):\n",
        "  # isi fungsi\n",
        "\n",
        "def fungsi_dengan_pengembalian(arg1, arg2, ...):\n",
        "  # isi fungsi\n",
        "  return 'sesuatu'\n"
      ],
      "execution_count": null,
      "outputs": [
        {
          "output_type": "error",
          "ename": "SyntaxError",
          "evalue": "ignored",
          "traceback": [
            "\u001b[0;36m  File \u001b[0;32m\"<ipython-input-2-b95a8e0c22ff>\"\u001b[0;36m, line \u001b[0;32m1\u001b[0m\n\u001b[0;31m    def nama_fungsi(arg1, arg2, ...):\u001b[0m\n\u001b[0m                                  ^\u001b[0m\n\u001b[0;31mSyntaxError\u001b[0m\u001b[0;31m:\u001b[0m invalid syntax\n"
          ]
        }
      ]
    },
    {
      "cell_type": "code",
      "metadata": {
        "colab": {
          "base_uri": "https://localhost:8080/"
        },
        "id": "NEF65otccict",
        "outputId": "1c37c1e2-15fb-4309-aa18-db00eef90da1"
      },
      "source": [
        "# Deklarasi Fungsi\n",
        "def cetak(x):\n",
        "  print(x)\n",
        "\n",
        "# Memanggil Fungsi\n",
        "cetak(\"Leady Lawalatta\")\n"
      ],
      "execution_count": null,
      "outputs": [
        {
          "output_type": "stream",
          "name": "stdout",
          "text": [
            "Leady Lawalatta\n"
          ]
        }
      ]
    },
    {
      "cell_type": "code",
      "metadata": {
        "colab": {
          "base_uri": "https://localhost:8080/"
        },
        "id": "5Tt2prAscs93",
        "outputId": "eebc0839-1cf5-4c4a-dfb0-8b79cd14b915"
      },
      "source": [
        "# Deklarasi Fungsi dengan pengembalian\n",
        "def kali(a, b):\n",
        "  return a * b;\n",
        "\n",
        "# Memanggil Fungsi\n",
        "print(kali(4, 5))"
      ],
      "execution_count": null,
      "outputs": [
        {
          "output_type": "stream",
          "name": "stdout",
          "text": [
            "20\n"
          ]
        }
      ]
    },
    {
      "cell_type": "markdown",
      "metadata": {
        "id": "SLOP8yGkbpLO"
      },
      "source": [
        "# **Method**"
      ]
    },
    {
      "cell_type": "code",
      "metadata": {
        "id": "P_Z6c_AYWi71"
      },
      "source": [
        "class NamaClass:\n",
        "  def nama_method(arg1, arg2, ...):\n",
        "    # isi method"
      ],
      "execution_count": null,
      "outputs": []
    },
    {
      "cell_type": "code",
      "metadata": {
        "colab": {
          "base_uri": "https://localhost:8080/"
        },
        "id": "uh927B9_W0N1",
        "outputId": "d01f409a-6bec-4a9a-c4fc-99db3c042834"
      },
      "source": [
        "# Deklarasi Object (Class)\n",
        "class Kucing(object):\n",
        "  def meong(self):\n",
        "    print(\"meeooong\")\n",
        "\n",
        "# Memanggil method\n",
        "cat = Kucing()\n",
        "cat.meong()"
      ],
      "execution_count": null,
      "outputs": [
        {
          "output_type": "stream",
          "name": "stdout",
          "text": [
            "meeooong\n"
          ]
        }
      ]
    },
    {
      "cell_type": "code",
      "metadata": {
        "colab": {
          "base_uri": "https://localhost:8080/"
        },
        "id": "ebzbUNPKc_X8",
        "outputId": "c78f7918-6743-4383-8f01-b861732c815c"
      },
      "source": [
        "# Deklarasi Object (Class)\n",
        "class Anjing(object):\n",
        "  def gukguk(self):\n",
        "    print(\"guk..guk..guk\")\n",
        "\n",
        "dog = Anjing()\n",
        "dog.gukguk()"
      ],
      "execution_count": null,
      "outputs": [
        {
          "output_type": "stream",
          "name": "stdout",
          "text": [
            "guk..guk..guk\n"
          ]
        }
      ]
    },
    {
      "cell_type": "markdown",
      "metadata": {
        "id": "3WbfqdEWbtsl"
      },
      "source": [
        "# **Lambda Expression**"
      ]
    },
    {
      "cell_type": "code",
      "metadata": {
        "colab": {
          "base_uri": "https://localhost:8080/"
        },
        "id": "wmZuN2s7ZzAZ",
        "outputId": "41eafcb5-3e69-49eb-ada0-790b87fe9582"
      },
      "source": [
        "# Lambda expression\n",
        "tambah = lambda a, b: (a + b)\n",
        "print(tambah(2, 3))"
      ],
      "execution_count": null,
      "outputs": [
        {
          "output_type": "stream",
          "name": "stdout",
          "text": [
            "5\n"
          ]
        }
      ]
    },
    {
      "cell_type": "code",
      "metadata": {
        "colab": {
          "base_uri": "https://localhost:8080/"
        },
        "id": "5xeGyb35ds9E",
        "outputId": "dea9b06a-0305-4311-e028-61e1e8a5b973"
      },
      "source": [
        "tambah = lambda a, b: (a + b)\n",
        "print(tambah(5, 2))"
      ],
      "execution_count": null,
      "outputs": [
        {
          "output_type": "stream",
          "name": "stdout",
          "text": [
            "7\n"
          ]
        }
      ]
    },
    {
      "cell_type": "markdown",
      "metadata": {
        "id": "jxicmjLxkXCa"
      },
      "source": [
        "# **Object Oriented Programming**"
      ]
    },
    {
      "cell_type": "markdown",
      "metadata": {
        "id": "K_u-Dtb6kcBm"
      },
      "source": [
        "## **Encapsulation**"
      ]
    },
    {
      "cell_type": "code",
      "metadata": {
        "colab": {
          "base_uri": "https://localhost:8080/"
        },
        "id": "9-CEKFKYm2AA",
        "outputId": "a7c6cec8-7fb2-4ff3-b164-6b026ecaf78c"
      },
      "source": [
        "nama = \"cemong\"\n",
        "usia = 1\n",
        "warna = \"putih coklat muda\"\n",
        "jenis = \"anggora\"\n",
        "\n",
        "def meongg():\n",
        "  print(\"meeeoonnggg... \")\n",
        "\n",
        "def info_kucing(nama, warna, jenis):\n",
        "  print(f\"nama: {nama}, usia: {usia}, warna: {warna}, jenis: {jenis}\")\n",
        "\n",
        "info_kucing(nama, usia, warna, jenis)\n",
        "\n",
        "\n",
        "class Kucing:\n",
        "  def __init__(self, nama, usia, warna, jenis):\n",
        "    self.nama = nama\n",
        "    self.usia = usia\n",
        "    self.warna = warna\n",
        "    self.jenis = jenis\n",
        "\n",
        "  def myfunc(self):\n",
        "    print(\"Hello my name is \" + self.nama)\n",
        "  \n",
        "  def meong(self):\n",
        "    print(\"meeeoonnggg... \")\n",
        "\n",
        "  def info(self):\n",
        "    print(f\"nama: {self.nama}, usia: {self.usia}, warna: {self.warna}, jenis: {self.jenis}\")\n",
        "\n",
        "\n",
        "kucing1 = Kucing(\"cemong\", 1, \"putih coklat muda\", \"anggora\")\n",
        "\n",
        "kucing1.info()"
      ],
      "execution_count": null,
      "outputs": [
        {
          "output_type": "stream",
          "name": "stdout",
          "text": [
            "nama: cemong, usia: 1, warna: putih coklat muda, jenis: anggora\n",
            "nama: cemong, usia: 1, warna: putih coklat muda, jenis: anggora\n"
          ]
        }
      ]
    },
    {
      "cell_type": "markdown",
      "metadata": {
        "id": "Xpt9Lz6vqN-z"
      },
      "source": [
        "## **Abstraction**"
      ]
    },
    {
      "cell_type": "code",
      "metadata": {
        "colab": {
          "base_uri": "https://localhost:8080/"
        },
        "id": "fwa_TEf-v_8f",
        "outputId": "80f145b1-e701-416e-ec63-f09e22f1d235"
      },
      "source": [
        "# Memanggil method dari objek tanpa harus mengetahui cara kerja method\n",
        "kucing1.myfunc()"
      ],
      "execution_count": null,
      "outputs": [
        {
          "output_type": "stream",
          "name": "stdout",
          "text": [
            "Hello my name is cemong\n"
          ]
        }
      ]
    },
    {
      "cell_type": "markdown",
      "metadata": {
        "id": "wBoEkCxewdrg"
      },
      "source": [
        "## **Inheritence**"
      ]
    },
    {
      "cell_type": "code",
      "metadata": {
        "colab": {
          "base_uri": "https://localhost:8080/"
        },
        "id": "HsVgKNgowiRP",
        "outputId": "eb243b37-c25c-47b3-a01f-6b1718a3959f"
      },
      "source": [
        "class Binatang(object):\n",
        "  def __init__(self, nama, usia, jenis, mamalia):\n",
        "    self.nama = nama\n",
        "    self.usia = usia\n",
        "    self.jenis = jenis\n",
        "    self.mamalia = mamalia\n",
        "\n",
        "  def tidur(self, durasi):\n",
        "    for x in range(durasi):\n",
        "      print(\"ddrrr... ddrrr... \")\n",
        "\n",
        "  def info(self):\n",
        "    print(f\"nama: {self.nama}, usia: {self.usia}, jenis: {self.jenis}, mamalia: {self.mamalia}\")\n",
        "\n",
        "\n",
        "animal1 = Binatang(\"cemong\", 1, \"omnivora\", True)\n",
        "\n",
        "animal1.info()\n",
        "\n",
        "class Kucing(Binatang):\n",
        "  def __init__(self,  nama, usia, jenis, mamalia, warna, jenis_kucing):\n",
        "    super().__init__(nama, usia, jenis, mamalia)\n",
        "    self.warna = warna\n",
        "    self.jenis_kucing = jenis_kucing\n",
        "  \n",
        "  def meong(self):\n",
        "    print(\"meeeonnggg\")\n",
        "\n",
        "  def info_kucing(self):\n",
        "    print(f\"warna: {self.warna}, jenis kucing: {self.jenis_kucing}\")\n",
        "\n",
        "cat1 = Kucing(\"cemong\", 1, \"omnivora\", True, \"putih coklat muda\", \"anggora\")\n",
        "\n",
        "cat1.info()\n",
        "cat1.info_kucing()"
      ],
      "execution_count": null,
      "outputs": [
        {
          "output_type": "stream",
          "name": "stdout",
          "text": [
            "nama: cemong, usia: 1, jenis: omnivora, mamalia: True\n",
            "nama: cemong, usia: 1, jenis: omnivora, mamalia: True\n",
            "warna: putih coklat muda, jenis kucing: anggora\n"
          ]
        }
      ]
    },
    {
      "cell_type": "markdown",
      "metadata": {
        "id": "lLLHjBNp1HDe"
      },
      "source": [
        "## **Polymorphism**"
      ]
    },
    {
      "cell_type": "code",
      "metadata": {
        "colab": {
          "base_uri": "https://localhost:8080/"
        },
        "id": "BZLA6LDrxDHr",
        "outputId": "3c09f462-8796-450f-9a3f-9bf954043c34"
      },
      "source": [
        "class Ikan(Binatang):\n",
        "  def __init__(self,  nama, usia, jenis, mamalia, warna, jenis_air, jenis_ikan):\n",
        "    super().__init__(nama, usia, jenis, mamalia)\n",
        "    self.warna = warna\n",
        "    self.jenis_air = jenis_air\n",
        "    self.jenis_ikan = jenis_ikan\n",
        "  \n",
        "  def berenang(self, durasi):\n",
        "    print(\"wushh... wush... \")\n",
        "\n",
        "  def info_ikan(self):\n",
        "    print(f\"warna: {self.warna}, jenis ikan: {self.jenis_ikan}, jenis air: {self.jenis_air}\")\n",
        "\n",
        "fish1 = Ikan(\"Jago\", 2, \"omnivora\", False, \"Merah Putih\", \"Tawar\", \"Cupang\")\n",
        "\n",
        "fish1.info()\n",
        "fish1.info_ikan()\n",
        "fish1.tidur(5)"
      ],
      "execution_count": null,
      "outputs": [
        {
          "output_type": "stream",
          "name": "stdout",
          "text": [
            "nama: Jago, usia: 2, jenis: omnivora, mamalia: False\n",
            "warna: Merah Putih, jenis ikan: Cupang, jenis air: Tawar\n",
            "ddrrr... ddrrr... \n",
            "ddrrr... ddrrr... \n",
            "ddrrr... ddrrr... \n",
            "ddrrr... ddrrr... \n",
            "ddrrr... ddrrr... \n"
          ]
        }
      ]
    },
    {
      "cell_type": "markdown",
      "metadata": {
        "id": "bse6mJ62GOR1"
      },
      "source": [
        "## **Activity OOP**\n",
        "\n",
        "Buatlah 3 OOP beserta turunannya dari objek sekitar, buat ulang seperti yang diatas (encapsulation, abstaction, inheritance, polymorphism)"
      ]
    },
    {
      "cell_type": "code",
      "metadata": {
        "colab": {
          "base_uri": "https://localhost:8080/"
        },
        "id": "sYhavw30n3oJ",
        "outputId": "f563531d-3abf-435c-c697-654d6755c011"
      },
      "source": [
        "#Encapsulation\n",
        "nama = \"anggrek\"\n",
        "nama_ilmiah = \"paraphalaenopsis serpentilingua\"\n",
        "warna = \"putih dengan corak kuning dan merah\"\n",
        "\n",
        "def info_bunga(nama, nama_ilmiah, warna,):\n",
        "  print(f\"nama: {nama}, nama ilmiah : {nama_ilmiah}, warna: {warna}\")\n",
        "\n",
        "info_bunga(nama, nama_ilmiah, warna)\n",
        "\n",
        "class Bunga:\n",
        "  def __init__(self, nama, nama_ilmiah, warna):\n",
        "    self.nama = nama\n",
        "    self.nama_ilmiah = nama_ilmiah\n",
        "    self.warna = warna\n",
        "\n",
        "  def myfunc(self):\n",
        "    print(\"Hay aku adalah bunga \" + self.nama)\n",
        "\n",
        "  def info(self):\n",
        "    print(f\"nama: {nama}, nama ilmiah : {nama_ilmiah}, warna: {warna}\")\n",
        "\n",
        "bunga1 = Bunga(\"anggrek\",\"paraphalaenopsis serpentilingua\",\"putih dengan corak kuning dan merah\")\n",
        "\n",
        "bunga1.info()"
      ],
      "execution_count": null,
      "outputs": [
        {
          "output_type": "stream",
          "name": "stdout",
          "text": [
            "nama: anggrek, nama ilmiah : paraphalaenopsis serpentilingua, warna: putih dengan corak kuning dan merah\n",
            "nama: anggrek, nama ilmiah : paraphalaenopsis serpentilingua, warna: putih dengan corak kuning dan merah\n"
          ]
        }
      ]
    },
    {
      "cell_type": "code",
      "metadata": {
        "colab": {
          "base_uri": "https://localhost:8080/"
        },
        "id": "arQ0-cdpY2IT",
        "outputId": "274cbc86-8ed5-4361-98f3-ee30fe9cc250"
      },
      "source": [
        "nama = \"Honda CRV\"\n",
        "tahun_produksi = 2000 #usia diganti tahun_produksi\n",
        "warna = \"Merah\"\n",
        "tempat_produksi = \"Indonesia\" #jenis diganti tempat_produksi\n",
        "\n",
        "#def meongg():\n",
        "  #print(\"meeeoonnggg... \")\n",
        "\n",
        "def info_mobil(nama, tahun_produksi, warna, jenis): #info_kucing diganti info_mobil\n",
        "  print(f\"nama: {nama}, tahun_produksi: {tahun_produksi}, warna: {warna}, tempat_produksi: {tempat_produksi}\")\n",
        "\n",
        "info_mobil(nama, tahun_produksi, warna, tempat_produksi)\n",
        "\n",
        "\n",
        "class Mobil:#Kucing diganti Mobil\n",
        "  def __init__(self, nama, tahun_produksi, warna, tempat_produksi):\n",
        "    self.nama = nama\n",
        "    self.tahun_produksi = tahun_produksi\n",
        "    self.warna = warna\n",
        "    self.tempat_produksi = tempat_produksi\n",
        "\n",
        "  def myfunc(self):\n",
        "    print(\"Hello aku adalah mobil \" + self.nama)\n",
        "  \n",
        "  #def meong(self):\n",
        "    #print(\"meeeoonnggg... \")\n",
        "\n",
        "  def info(self):\n",
        "    print(f\"nama: {self.nama}, tahun_produksi: {self.tahun_produksi}, warna: {self.warna}, tempat_produksi: {self.tempat_produksi}\")\n",
        "\n",
        "\n",
        "mobil1 = Mobil(\"Honda CRV\", 2000, \"Merah\", \"Indonesia\")\n",
        "\n",
        "mobil1.info()"
      ],
      "execution_count": null,
      "outputs": [
        {
          "output_type": "stream",
          "name": "stdout",
          "text": [
            "nama: Honda CRV, tahun_produksi: 2000, warna: Merah, tempat_produksi: Indonesia\n",
            "nama: Honda CRV, tahun_produksi: 2000, warna: Merah, tempat_produksi: Indonesia\n"
          ]
        }
      ]
    },
    {
      "cell_type": "code",
      "metadata": {
        "id": "mjMRDixviXF1"
      },
      "source": [
        "nama = \"Redmi\"\n",
        "Tahun = 2019\n",
        "warna = \"Hitam\"\n",
        "jenis = \"Note 8\"\n",
        "\n",
        "def redmi():\n",
        "  print(\"Redmi nih!!... \")\n",
        "\n",
        "def info_handphone(nama, tahun, warna, jenis):\n",
        "  print(f\"nama: {nama}, tahun: {Tahun}, warna: {warna}, jenis: {jenis}\")\n",
        "\n",
        "info_handphone(nama, Tahun, warna, jenis)\n",
        "\n",
        "class handphone:\n",
        "  def __init__(self, nama, Tahun, warna, jenis):\n",
        "    self.nama = nama\n",
        "    self.Tahun = Tahun\n",
        "    self.warna = warna\n",
        "    self.jenis = jenis\n",
        "\n",
        "  def myfunc(self):\n",
        "    print(\"Hello handphone kamu apaaa? \" + self.nama)\n",
        "  \n",
        "  def tringtring(self):\n",
        "    print(\"Redmi nih!!... \")\n",
        "\n",
        "  def info(self):\n",
        "    print(f\"nama: {self.nama}, Tahun: {self.Tahun}, warna: {self.warna}, jenis: {self.jenis}\")\n",
        "\n",
        "\n",
        "handphone1 = handphone(\"redmi\", 2019, \"Hitam\", \"note 8\")\n",
        "\n",
        "handphone1.info()"
      ],
      "execution_count": null,
      "outputs": []
    },
    {
      "cell_type": "code",
      "metadata": {
        "colab": {
          "base_uri": "https://localhost:8080/"
        },
        "id": "-jjJ1aaIq4qz",
        "outputId": "07c720ab-b4d8-41b8-9f41-fb664bf3b58f"
      },
      "source": [
        "#Abstaction\n",
        "# Memanggil method dari objek tanpa harus mengetahui cara kerja method\n",
        "bunga1.myfunc()"
      ],
      "execution_count": null,
      "outputs": [
        {
          "output_type": "stream",
          "name": "stdout",
          "text": [
            "Hay aku adalah bunga anggrek\n"
          ]
        }
      ]
    },
    {
      "cell_type": "code",
      "metadata": {
        "colab": {
          "base_uri": "https://localhost:8080/"
        },
        "id": "qy-f5duj-U5b",
        "outputId": "fed71b52-1782-40f2-8170-a4d79ed5e10b"
      },
      "source": [
        "mobil1.myfunc()"
      ],
      "execution_count": null,
      "outputs": [
        {
          "output_type": "stream",
          "name": "stdout",
          "text": [
            "Hello aku adalah mobil Honda CRV\n"
          ]
        }
      ]
    },
    {
      "cell_type": "code",
      "metadata": {
        "id": "mc2ECAgqilM7"
      },
      "source": [
        "handphone1.myfunc()"
      ],
      "execution_count": null,
      "outputs": []
    },
    {
      "cell_type": "code",
      "metadata": {
        "colab": {
          "base_uri": "https://localhost:8080/"
        },
        "id": "bO-Fix7mp8mm",
        "outputId": "8f1cd252-4e26-4572-8820-9c0a730b9015"
      },
      "source": [
        "#Inheritance\n",
        "class Tumbuhan(object):\n",
        "  def __init__(self, nama, jenis, asal):\n",
        "    self.nama = nama\n",
        "    self.jenis = jenis\n",
        "    self.asal = asal\n",
        "\n",
        "  def layu(self, durasi):\n",
        "    for x in range(durasi):\n",
        "      print(\"kering.... \")\n",
        "\n",
        "  def info(self):\n",
        "    print(f\"nama: {self.nama}, jenis: {self.jenis}, asal: {self.asal}\")\n",
        "\n",
        "\n",
        "flower = Tumbuhan(\"anggrek\",\"anggrek_bulan\", True)\n",
        "\n",
        "flower.info()\n",
        "\n",
        "class Bunga(Tumbuhan):\n",
        "  def __init__(self,  nama, jenis, asal, warna, nama_latin):\n",
        "    super().__init__(nama, jenis, asal)\n",
        "    self.warna = warna\n",
        "    self.nama_latin = nama_latin\n",
        "\n",
        "  def info_bunga(self):\n",
        "    print(f\"warna: {self.warna}, nama_latin: {self.nama_latin}\")\n",
        "\n",
        "bunga1 = Bunga(\"anggrek\",\"anggrek_bulan\", True, \"putih corak kuning\",\"phalaenopsis amabilis\")\n",
        "\n",
        "bunga1.info()\n",
        "bunga1.info_bunga()"
      ],
      "execution_count": null,
      "outputs": [
        {
          "output_type": "stream",
          "name": "stdout",
          "text": [
            "nama: anggrek, jenis: anggrek_bulan, asal: True\n",
            "nama: anggrek, jenis: anggrek_bulan, asal: True\n",
            "warna: putih corak kuning, nama_latin: phalaenopsis amabilis\n"
          ]
        }
      ]
    },
    {
      "cell_type": "code",
      "metadata": {
        "colab": {
          "base_uri": "https://localhost:8080/"
        },
        "id": "jQkucCgiZJGi",
        "outputId": "19d4709c-68b7-4e64-a5cf-e2f08f167352"
      },
      "source": [
        "class Kendaraan(object): #Binatang diganti Kendaraan\n",
        "  def __init__(self, nama, tahun_produksi, tempat_produksi, diesel):\n",
        "    self.nama = nama\n",
        "    self.tahun_produksi = tahun_produksi #usia diganti tahun_produksi\n",
        "    self.tempat_produksi = tempat_produksi #jenis diganti tempat_produksi\n",
        "    self.diesel = diesel #mamalia diganti diesel\n",
        "\n",
        "  def tempuh(self, durasi): #tidur diganti tempuh\n",
        "    for x in range(durasi):\n",
        "      print(\"...........\")\n",
        "\n",
        "  def info(self):\n",
        "    print(f\"nama: {self.nama}, tahun_produksi: {self.tahun_produksi}, tempat_produksi: {self.tempat_produksi}, diesel: {self.diesel}\")\n",
        "\n",
        "\n",
        "kendaraan1 = Kendaraan(\"Honda CRV\", 2000, \"Indonesia\", True)\n",
        "\n",
        "kendaraan1.info()\n",
        "\n",
        "class Mobil(Kendaraan):\n",
        "  def __init__(self,  nama, tahun_produksi, tempat_produksi, diesel, warna, tempat_produksi_mobil):\n",
        "    super().__init__(nama, tahun_produksi, tempat_produksi, diesel)\n",
        "    self.warna = warna\n",
        "    self.tempat_produksi_mobil = tempat_produksi_mobil #jenis_kucing diganti tempat_produksi_mobil\n",
        "  \n",
        "  #def meong(self):\n",
        "    #print(\"meeeonnggg\")\n",
        "\n",
        "  def info_mobil(self):\n",
        "    print(f\"warna: {self.warna}, tempat_produksi_mobil: {self.tempat_produksi_mobil}\")\n",
        "\n",
        "car1 = Mobil(\"Honda CRV\", 2000, \"Indonesia\", True, \"Merah\", \"PT Astra Honda\")\n",
        "\n",
        "car1.info()\n",
        "car1.info_mobil()"
      ],
      "execution_count": null,
      "outputs": [
        {
          "output_type": "stream",
          "name": "stdout",
          "text": [
            "nama: Honda CRV, tahun_produksi: 2000, tempat_produksi: Indonesia, diesel: True\n",
            "nama: Honda CRV, tahun_produksi: 2000, tempat_produksi: Indonesia, diesel: True\n",
            "warna: Merah, tempat_produksi_mobil: PT Astra Honda\n"
          ]
        }
      ]
    },
    {
      "cell_type": "code",
      "metadata": {
        "id": "v0CqfdYbiwZl"
      },
      "source": [
        "class perusahaan(object):\n",
        "  def __init__(self, nama, Tahun, jenis, perusahaan):\n",
        "    self.nama = nama\n",
        "    self.Tahun = Tahun\n",
        "    self.jenis = jenis\n",
        "    self.perusahaan = perusahaan\n",
        "\n",
        "  def tidur(self, durasi):\n",
        "    for x in range(durasi):\n",
        "      print(\"HAlo halo ahhah \")\n",
        "\n",
        "  def info(self):\n",
        "    print(f\"nama: {self.nama}, tahun: {self.Tahun}, jenis: {self.jenis}, MI: {self.perusahaan}\")\n",
        "\n",
        "\n",
        "perusahaan1 = perusahaan(\"redmi\", 2019, \"MI\", True)\n",
        "\n",
        "perusahaan1.info()\n",
        "\n",
        "class Handphone(perusahaan):\n",
        "  def __init__(self,  nama, Tahun, jenis, perusahaan, warna, jenis_handphone):\n",
        "    super().__init__(nama, Tahun, jenis, perusahaan)\n",
        "    self.warna = warna\n",
        "    self.jenis_handphone = jenis_handphone\n",
        "  \n",
        "  def handphone(self):\n",
        "    print(\"Redmi nih!!\")\n",
        "\n",
        "  def info_handphone(self):\n",
        "    print(f\"warna: {self.warna}, jenis handphone: {self.jenis_handphone}\")\n",
        "\n",
        "cat1 = Handphone(\"Redmi\", 2019, \"note 8\", True, \"Hitam\", \"MI\")\n",
        "\n",
        "cat1.info()\n",
        "cat1.info_handphone()"
      ],
      "execution_count": null,
      "outputs": []
    },
    {
      "cell_type": "code",
      "metadata": {
        "colab": {
          "base_uri": "https://localhost:8080/"
        },
        "id": "lNNq8nPTx4H9",
        "outputId": "c1a6f878-0ede-4b37-fa65-5cd513628808"
      },
      "source": [
        "#Polymorphism\n",
        "class Anggrek(Tumbuhan):\n",
        "  def __init__(self,nama, jenis, warna, asal):\n",
        "    super().__init__(nama, jenis, warna)\n",
        "    self.asal = asal\n",
        "  \n",
        "  def mati(self, durasi):\n",
        "    for x in range(durasi):\n",
        "      print('kering')\n",
        "\n",
        "  def info_tipe(self):\n",
        "    print(f\"asal: {self.asal}\")\n",
        "\n",
        "Flower1 = Anggrek(\"anggrek\", \"Kantung Kolopaking\", \"hijau\", \"Cupang\")\n",
        "\n",
        "Flower1.info()\n",
        "Flower1.info_tipe()\n",
        "Flower1.mati(10)"
      ],
      "execution_count": null,
      "outputs": [
        {
          "output_type": "stream",
          "name": "stdout",
          "text": [
            "nama: anggrek, jenis: Kantung Kolopaking, asal: Cupang\n",
            "asal: Cupang\n",
            "kering\n",
            "kering\n",
            "kering\n",
            "kering\n",
            "kering\n",
            "kering\n",
            "kering\n",
            "kering\n",
            "kering\n",
            "kering\n"
          ]
        }
      ]
    },
    {
      "cell_type": "code",
      "metadata": {
        "colab": {
          "base_uri": "https://localhost:8080/"
        },
        "id": "cXP9yYakZR5U",
        "outputId": "94e46ab9-df8f-4671-bf85-64e62dc23504"
      },
      "source": [
        "class Motor(Kendaraan):\n",
        "  def __init__(self,  nama, tahun_produksi, tempat_produksi, diesel, warna, jenis_jalan, jenis_motor):\n",
        "    super().__init__(nama, tahun_produksi, tempat_produksi, diesel)\n",
        "    self.warna = warna\n",
        "    self.jenis_jalan = jenis_jalan\n",
        "    self.jenis_motor = jenis_motor\n",
        "  \n",
        "  def menempuh(self, durasi):\n",
        "    print(\"ngeng ngeng\")\n",
        "\n",
        "  def info_motor(self):\n",
        "    print(f\"warna: {self.warna}, jenis_motor: {self.jenis_motor}, jenis_jalan: {self.jenis_jalan}\")\n",
        "\n",
        "motor1 = Motor(\"Honda CBR\", 2015, \"Indonesia\", False, \"Biru\", \"Aspal\", \"Kopling\")\n",
        "\n",
        "motor1.info()\n",
        "motor1.info_motor()\n",
        "motor1.menempuh(150)"
      ],
      "execution_count": null,
      "outputs": [
        {
          "output_type": "stream",
          "name": "stdout",
          "text": [
            "nama: Honda CBR, tahun_produksi: 2015, tempat_produksi: Indonesia, diesel: False\n",
            "warna: Biru, jenis_motor: Kopling, jenis_jalan: Aspal\n",
            "ngeng ngeng\n"
          ]
        }
      ]
    },
    {
      "cell_type": "code",
      "metadata": {
        "id": "t783u36fi39p"
      },
      "source": [
        "class samsung(perusahaan):\n",
        "  def __init__(self,  nama, Tahun, jenis, mamalia, warna, jenis_samsung):\n",
        "    super().__init__(nama, Tahun, jenis, mamalia)\n",
        "    self.warna = warna\n",
        "    self.jenis_samsung = jenis_samsung\n",
        "  \n",
        "  def pengembang(self, durasi):\n",
        "    print(\"luarbiasa luarbiasa \")\n",
        "\n",
        "  def info_samsung(self):\n",
        "    print(f\"warna: {self.warna}, jenis samsung: {self.jenis_samsung}\")\n",
        "\n",
        "hape1 = samsung(\"galaxy\", 2019, \"m24\", False, \"hitam\", \"new\")\n",
        "hape1.info()\n",
        "hape1.info_samsung()\n",
        "hape1.tidur(5)"
      ],
      "execution_count": null,
      "outputs": []
    },
    {
      "cell_type": "markdown",
      "metadata": {
        "id": "xf3ylfGtB8qY"
      },
      "source": [
        "# **Time Complexity**\n",
        "## Activity \n",
        "\n",
        "Hitung time complexity dengan bigO Notation pada algoritma berikut:\n",
        "\n",
        "* Tidak perlu di run"
      ]
    },
    {
      "cell_type": "code",
      "metadata": {
        "colab": {
          "base_uri": "https://localhost:8080/"
        },
        "id": "fnk4oJoJCJJG",
        "outputId": "52a229b2-2718-4647-be23-354d9369271b"
      },
      "source": [
        "# 1\n",
        "#Big O(3)= O(1)\n",
        "\n",
        "arr = [1, 2, 3, 4, 5] #Big O(1)\n",
        "\n",
        "print(arr[0]) #Big O(1)\n",
        "print(arr[1]) #Big O(1)"
      ],
      "execution_count": null,
      "outputs": [
        {
          "output_type": "stream",
          "name": "stdout",
          "text": [
            "1\n",
            "2\n"
          ]
        }
      ]
    },
    {
      "cell_type": "code",
      "metadata": {
        "colab": {
          "base_uri": "https://localhost:8080/"
        },
        "id": "LCgmhC-qD0p2",
        "outputId": "60af5b8d-d754-4e9e-ee70-b92068f17fa2"
      },
      "source": [
        "# 2\n",
        "#Big O(3 + n) = O(n)\n",
        "\n",
        "print(arr[2]) #Big O(1)\n",
        "for number in arr: #Big O(n)\n",
        "  print(number)\n",
        "print(arr[1]) #Big O(1)\n",
        "print(arr[2]) #Big O(1)"
      ],
      "execution_count": null,
      "outputs": [
        {
          "output_type": "stream",
          "name": "stdout",
          "text": [
            "3\n",
            "1\n",
            "2\n",
            "3\n",
            "4\n",
            "5\n",
            "2\n",
            "3\n"
          ]
        }
      ]
    },
    {
      "cell_type": "code",
      "metadata": {
        "colab": {
          "base_uri": "https://localhost:8080/"
        },
        "id": "w5Upv3LdECFO",
        "outputId": "c6fcb81b-d5ea-4383-cd1e-2a03e6d1f8f3"
      },
      "source": [
        "# 3\n",
        "#Big O(3 + n) = O(n)\n",
        "\n",
        "arr2 = [6, 7, 8, 9, 10] #Big O(1)\n",
        "\n",
        "for number in arr: #Big O(n)\n",
        "  print(number)\n",
        "for number in arr2: #Big O(n)\n",
        "  print(number)\n",
        "print(arr2[4]) #Big O(1)"
      ],
      "execution_count": null,
      "outputs": [
        {
          "output_type": "stream",
          "name": "stdout",
          "text": [
            "1\n",
            "2\n",
            "3\n",
            "4\n",
            "5\n",
            "6\n",
            "7\n",
            "8\n",
            "9\n",
            "10\n",
            "10\n"
          ]
        }
      ]
    },
    {
      "cell_type": "code",
      "metadata": {
        "colab": {
          "base_uri": "https://localhost:8080/"
        },
        "id": "yXtKHziAEghO",
        "outputId": "f63a0d16-1d5f-4653-aa04-99c53be39ce7"
      },
      "source": [
        "# 4\n",
        "#Big O(1 + 2n)= O(n)\n",
        "\n",
        "print(arr2[1]) #Big O(1)\n",
        "for number in arr: #Big O(n)\n",
        "  print(number)\n",
        "for number in arr: #Big O(n)\n",
        "  print(number)"
      ],
      "execution_count": null,
      "outputs": [
        {
          "output_type": "stream",
          "name": "stdout",
          "text": [
            "7\n",
            "1\n",
            "2\n",
            "3\n",
            "4\n",
            "5\n",
            "1\n",
            "2\n",
            "3\n",
            "4\n",
            "5\n"
          ]
        }
      ]
    },
    {
      "cell_type": "code",
      "metadata": {
        "colab": {
          "base_uri": "https://localhost:8080/"
        },
        "id": "9dXVL-S9EzxT",
        "outputId": "42d85c0e-58d6-4584-ab34-b4ac798ec120"
      },
      "source": [
        "# 5\n",
        "#Big O(2 + n^2)= O(n^2)\n",
        "\n",
        "for number in arr: #Big O(n)\n",
        "  for number2 in arr2: #Big O(n)\n",
        "    print(number+number2)\n",
        "print(arr[1]+arr2[1]) #Big O(1)\n",
        "print(arr2[2]) #Big O(1)"
      ],
      "execution_count": null,
      "outputs": [
        {
          "output_type": "stream",
          "name": "stdout",
          "text": [
            "7\n",
            "8\n",
            "9\n",
            "10\n",
            "11\n",
            "8\n",
            "9\n",
            "10\n",
            "11\n",
            "12\n",
            "9\n",
            "10\n",
            "11\n",
            "12\n",
            "13\n",
            "10\n",
            "11\n",
            "12\n",
            "13\n",
            "14\n",
            "11\n",
            "12\n",
            "13\n",
            "14\n",
            "15\n",
            "9\n",
            "8\n"
          ]
        }
      ]
    },
    {
      "cell_type": "code",
      "metadata": {
        "colab": {
          "base_uri": "https://localhost:8080/"
        },
        "id": "6SC68I3PFFge",
        "outputId": "f3613d67-6bc1-4709-e320-9cecb8467fe8"
      },
      "source": [
        "# 6 \n",
        "#Big O(1 + n^2)= O(n^2)\n",
        "\n",
        "for number in arr: #Big O(n)\n",
        "  for number2 in arr: #Big O(n)\n",
        "    print(number+number2)\n",
        "print(arr) #Big O(1)"
      ],
      "execution_count": null,
      "outputs": [
        {
          "output_type": "stream",
          "name": "stdout",
          "text": [
            "2\n",
            "3\n",
            "4\n",
            "5\n",
            "6\n",
            "3\n",
            "4\n",
            "5\n",
            "6\n",
            "7\n",
            "4\n",
            "5\n",
            "6\n",
            "7\n",
            "8\n",
            "5\n",
            "6\n",
            "7\n",
            "8\n",
            "9\n",
            "6\n",
            "7\n",
            "8\n",
            "9\n",
            "10\n",
            "[1, 2, 3, 4, 5]\n"
          ]
        }
      ]
    },
    {
      "cell_type": "code",
      "metadata": {
        "colab": {
          "base_uri": "https://localhost:8080/"
        },
        "id": "b7w1_oXnGXfs",
        "outputId": "d49b9227-d493-43dd-e199-48ed719e2663"
      },
      "source": [
        "# 7 \n",
        "#Big O(3 + n^3)= O(n^3)\n",
        "\n",
        "for number in arr: #Big O(n)\n",
        "  for number2 in arr2: #Big O(n)\n",
        "    for number3 in arr: #Big O(n)\n",
        "      print(number+number2+number3)\n",
        "print(arr[1]) #Big O(1)\n",
        "print(arr2[2]) #Big O(1)\n",
        "print(arr2[3]) #Big O(1)\n"
      ],
      "execution_count": null,
      "outputs": [
        {
          "output_type": "stream",
          "name": "stdout",
          "text": [
            "8\n",
            "9\n",
            "10\n",
            "11\n",
            "12\n",
            "9\n",
            "10\n",
            "11\n",
            "12\n",
            "13\n",
            "10\n",
            "11\n",
            "12\n",
            "13\n",
            "14\n",
            "11\n",
            "12\n",
            "13\n",
            "14\n",
            "15\n",
            "12\n",
            "13\n",
            "14\n",
            "15\n",
            "16\n",
            "9\n",
            "10\n",
            "11\n",
            "12\n",
            "13\n",
            "10\n",
            "11\n",
            "12\n",
            "13\n",
            "14\n",
            "11\n",
            "12\n",
            "13\n",
            "14\n",
            "15\n",
            "12\n",
            "13\n",
            "14\n",
            "15\n",
            "16\n",
            "13\n",
            "14\n",
            "15\n",
            "16\n",
            "17\n",
            "10\n",
            "11\n",
            "12\n",
            "13\n",
            "14\n",
            "11\n",
            "12\n",
            "13\n",
            "14\n",
            "15\n",
            "12\n",
            "13\n",
            "14\n",
            "15\n",
            "16\n",
            "13\n",
            "14\n",
            "15\n",
            "16\n",
            "17\n",
            "14\n",
            "15\n",
            "16\n",
            "17\n",
            "18\n",
            "11\n",
            "12\n",
            "13\n",
            "14\n",
            "15\n",
            "12\n",
            "13\n",
            "14\n",
            "15\n",
            "16\n",
            "13\n",
            "14\n",
            "15\n",
            "16\n",
            "17\n",
            "14\n",
            "15\n",
            "16\n",
            "17\n",
            "18\n",
            "15\n",
            "16\n",
            "17\n",
            "18\n",
            "19\n",
            "12\n",
            "13\n",
            "14\n",
            "15\n",
            "16\n",
            "13\n",
            "14\n",
            "15\n",
            "16\n",
            "17\n",
            "14\n",
            "15\n",
            "16\n",
            "17\n",
            "18\n",
            "15\n",
            "16\n",
            "17\n",
            "18\n",
            "19\n",
            "16\n",
            "17\n",
            "18\n",
            "19\n",
            "20\n",
            "2\n",
            "8\n",
            "9\n"
          ]
        }
      ]
    },
    {
      "cell_type": "code",
      "metadata": {
        "colab": {
          "base_uri": "https://localhost:8080/"
        },
        "id": "Cm1Hcy3JG6sh",
        "outputId": "424fbd4f-482c-4e77-fc96-92d51f4f9380"
      },
      "source": [
        "# 8\n",
        "#Big O(2 + n + n^2)= O(n^2)\n",
        "\n",
        "for number in arr: #Big O(n)\n",
        "  print(number)\n",
        "print(arr2) #Big O(1)\n",
        "for number in arr: #Big O(n)\n",
        "  for number2 in arr2: #Big O(n)\n",
        "    print(number+number2)\n",
        "print(arr) #Big O(1)"
      ],
      "execution_count": null,
      "outputs": [
        {
          "output_type": "stream",
          "name": "stdout",
          "text": [
            "1\n",
            "2\n",
            "3\n",
            "4\n",
            "5\n",
            "[6, 7, 8, 9, 10]\n",
            "7\n",
            "8\n",
            "9\n",
            "10\n",
            "11\n",
            "8\n",
            "9\n",
            "10\n",
            "11\n",
            "12\n",
            "9\n",
            "10\n",
            "11\n",
            "12\n",
            "13\n",
            "10\n",
            "11\n",
            "12\n",
            "13\n",
            "14\n",
            "11\n",
            "12\n",
            "13\n",
            "14\n",
            "15\n",
            "[1, 2, 3, 4, 5]\n"
          ]
        }
      ]
    },
    {
      "cell_type": "code",
      "metadata": {
        "id": "EgpO69yqHJ3K",
        "colab": {
          "base_uri": "https://localhost:8080/"
        },
        "outputId": "addfe35d-322e-41ba-d660-d2025cc7e6c1"
      },
      "source": [
        "# 9 \n",
        "# algoritma bubble sort\n",
        "\n",
        "mylist = [1,5,10,15,20,25,30,2,6,8,9]\n",
        "print(mylist)\n",
        "def bubbleSort(mylist):\n",
        "    # outer loop\n",
        "    for i in range(len(mylist)-1, 0, -1):\n",
        "        # inner loop\n",
        "        for j in range(i):\n",
        "            if mylist[j] > mylist[j+1]:\n",
        "                # swap the value\n",
        "                temp = mylist[j]\n",
        "                mylist[j] = mylist[j+1]\n",
        "                mylist[j+1] = temp\n",
        "                \n",
        "    return mylist\n",
        "\n",
        "    firstlist = [5, 8, 3, 1]\n",
        "    print(bubbleSort(firstlist))"
      ],
      "execution_count": null,
      "outputs": [
        {
          "output_type": "stream",
          "name": "stdout",
          "text": [
            "[1, 5, 10, 15, 20, 25, 30, 2, 6, 8, 9]\n"
          ]
        }
      ]
    },
    {
      "cell_type": "code",
      "metadata": {
        "id": "qD9VauTyG_RJ"
      },
      "source": [
        "# 10\n",
        "\n",
        "# algoritma linear search\n",
        "\n",
        "myList = [1,5,10,15,20,25,30,2,6,8,9] # Example List\n",
        "cari = int(input(\"Masukkan Angka Yang Anda Cari : \")) # angka yang ingin dicari\n",
        "\n",
        "#fungsi\n",
        "def searchNumber(List,search):\n",
        "    counter = 0\n",
        "    while counter != len(myList):\n",
        "        if myList[counter] == search:\n",
        "            result = counter\n",
        "        counter += 1\n",
        "    return result\n",
        "\n",
        "#pemanggilan Fungsi\n",
        "hasil = searchNumber(myList,cari)\n",
        "if cari not in myList:\n",
        "    print(\"Number Not Found !!!\")\n",
        "else:\n",
        "    print('Number %s in index %s'% (cari,hasil))"
      ],
      "execution_count": null,
      "outputs": []
    },
    {
      "cell_type": "code",
      "metadata": {
        "id": "OaKrQWZJH28k"
      },
      "source": [
        "# 11\n",
        "\n",
        "# algoritma binary search\n",
        "yourList = [2,4,9,8,1,3,5,6,3] # Example List\n",
        "yourNumber = int(input('Insert Number to search ? ')) # angka yang ingin dicari\n",
        "\n",
        "#Fungsi\n",
        "def searchNumber(Number,List):\n",
        "    found = False     #Untuk memberikan kondisi adanya angka\n",
        "    List.sort() # binary search harus diurutkan\n",
        "    firstIndex = 0  #index pertama\n",
        "    lastIndex = len(List)-1 #index terakhir\n",
        "    while firstIndex <= lastIndex and not found:\n",
        "        middleIndex = (firstIndex + lastIndex) // 2     #mancari index tengah\n",
        "        if List[middleIndex] == Number:\n",
        "            found = True\n",
        "        else:\n",
        "            if Number < List[middleIndex]:\n",
        "                lastIndex = middleIndex - 1\n",
        "            else:\n",
        "                firstIndex = middleIndex + 1\n",
        "    return found\n",
        "    \n",
        "#Pemanggilam Fungsi ditandai dengan pemanggilan nama fungsi\n",
        "result = searchNumber(yourNumber,yourList)\n",
        "if result:\n",
        "    print('Number %s is Found in List'% yourNumber)\n",
        "else:\n",
        "    print('Number %s not Found in List' % yourNumber)\n"
      ],
      "execution_count": null,
      "outputs": []
    }
  ]
}